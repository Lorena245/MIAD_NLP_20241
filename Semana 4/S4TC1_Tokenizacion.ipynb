{
 "cells": [
  {
   "cell_type": "markdown",
   "metadata": {},
   "source": [
    "![image info](https://raw.githubusercontent.com/albahnsen/MIAD_ML_and_NLP/main/images/banner_1.png)"
   ]
  },
  {
   "cell_type": "markdown",
   "metadata": {},
   "source": [
    "# Taller: Tokenización de textos  \n",
    "\n",
    "En este taller podrán poner en práctica sus conocimientos sobre preprocesamiento de texto (tokenización). El taller está constituido por 5 puntos, en los cuales deberan seguir las intrucciones de cada numeral para su desarrollo."
   ]
  },
  {
   "cell_type": "markdown",
   "metadata": {},
   "source": [
    "## Datos detección de toxicidad en comentarios\n",
    "\n",
    "En este taller se usará el conjunto de datos de detección de toxicidad en comentarios de la base de datos de Kaggle. Cada observación es un comentario que tiene como variable objetivo (target) la probabilidad de ser un comentario tóxico. El objetivo es predecir la toxicidad de cada comentario. Para más detalles pueden visitar el siguiente enlace: [datos](https://www.kaggle.com/c/jigsaw-unintended-bias-in-toxicity-classification/data).\n",
    "\n",
    "Inicialmente, se desactivan las advertencias para que no aparezcan durante la ejecución del código"
   ]
  },
  {
   "cell_type": "code",
   "execution_count": 16,
   "metadata": {},
   "outputs": [],
   "source": [
    "import warnings\n",
    "warnings.filterwarnings('ignore')"
   ]
  },
  {
   "cell_type": "markdown",
   "metadata": {},
   "source": [
    "Se importan las librerias necesarias para trabajar con los datos y modelar la detección de toxicidad en los comentarios"
   ]
  },
  {
   "cell_type": "code",
   "execution_count": 17,
   "metadata": {},
   "outputs": [],
   "source": [
    "import pandas as pd\n",
    "import numpy as np\n",
    "import scipy as sp\n",
    "from sklearn.model_selection import train_test_split, cross_val_score\n",
    "from sklearn.feature_extraction.text import CountVectorizer, TfidfVectorizer\n",
    "from sklearn.feature_extraction.text import TfidfTransformer\n",
    "from xgboost import XGBRegressor\n",
    "from sklearn.metrics import mean_squared_error\n",
    "from sklearn.model_selection import GridSearchCV\n",
    "from sklearn import metrics\n",
    "import matplotlib.pyplot as plt\n",
    "\n",
    "%matplotlib inline"
   ]
  },
  {
   "cell_type": "markdown",
   "metadata": {},
   "source": [
    "Se cargan los datos y se seleccionan las columnas id, comment_test y target"
   ]
  },
  {
   "cell_type": "code",
   "execution_count": 18,
   "metadata": {},
   "outputs": [
    {
     "data": {
      "text/html": [
       "<div>\n",
       "<style scoped>\n",
       "    .dataframe tbody tr th:only-of-type {\n",
       "        vertical-align: middle;\n",
       "    }\n",
       "\n",
       "    .dataframe tbody tr th {\n",
       "        vertical-align: top;\n",
       "    }\n",
       "\n",
       "    .dataframe thead th {\n",
       "        text-align: right;\n",
       "    }\n",
       "</style>\n",
       "<table border=\"1\" class=\"dataframe\">\n",
       "  <thead>\n",
       "    <tr style=\"text-align: right;\">\n",
       "      <th></th>\n",
       "      <th>id</th>\n",
       "      <th>comment_text</th>\n",
       "      <th>target</th>\n",
       "    </tr>\n",
       "  </thead>\n",
       "  <tbody>\n",
       "    <tr>\n",
       "      <th>0</th>\n",
       "      <td>6101457</td>\n",
       "      <td>What are you talking about? What group do Pete...</td>\n",
       "      <td>0.0</td>\n",
       "    </tr>\n",
       "    <tr>\n",
       "      <th>1</th>\n",
       "      <td>5342103</td>\n",
       "      <td>NO!, Let him, we need a Conservative government.</td>\n",
       "      <td>0.0</td>\n",
       "    </tr>\n",
       "    <tr>\n",
       "      <th>2</th>\n",
       "      <td>743361</td>\n",
       "      <td>Perhaps he took the \"power out of the Cardinal...</td>\n",
       "      <td>0.2</td>\n",
       "    </tr>\n",
       "    <tr>\n",
       "      <th>3</th>\n",
       "      <td>551008</td>\n",
       "      <td>As always, yours is dripping with sarcasm, whi...</td>\n",
       "      <td>0.0</td>\n",
       "    </tr>\n",
       "    <tr>\n",
       "      <th>4</th>\n",
       "      <td>865998</td>\n",
       "      <td>The dirty little secret is that the price rang...</td>\n",
       "      <td>0.3</td>\n",
       "    </tr>\n",
       "  </tbody>\n",
       "</table>\n",
       "</div>"
      ],
      "text/plain": [
       "        id                                       comment_text  target\n",
       "0  6101457  What are you talking about? What group do Pete...     0.0\n",
       "1  5342103   NO!, Let him, we need a Conservative government.     0.0\n",
       "2   743361  Perhaps he took the \"power out of the Cardinal...     0.2\n",
       "3   551008  As always, yours is dripping with sarcasm, whi...     0.0\n",
       "4   865998  The dirty little secret is that the price rang...     0.3"
      ]
     },
     "execution_count": 18,
     "metadata": {},
     "output_type": "execute_result"
    }
   ],
   "source": [
    "df = pd.read_csv('https://raw.githubusercontent.com/albahnsen/MIAD_ML_and_NLP/main/datasets/Toxicity.zip')\n",
    "df = df[['id','comment_text', 'target']]\n",
    "df.head()"
   ]
  },
  {
   "cell_type": "markdown",
   "metadata": {},
   "source": [
    "Se cargan de forma correcta los datos y se muestran las primeras filas para verificar dicha acción. Para obtener la forma de los datos, se usa el atributo shape"
   ]
  },
  {
   "cell_type": "code",
   "execution_count": 19,
   "metadata": {},
   "outputs": [
    {
     "data": {
      "text/plain": [
       "(541462, 3)"
      ]
     },
     "execution_count": 19,
     "metadata": {},
     "output_type": "execute_result"
    }
   ],
   "source": [
    "df.shape"
   ]
  },
  {
   "cell_type": "markdown",
   "metadata": {},
   "source": [
    "La base de datos Tocixity tiene 541,462 filas y 3 columnas\n",
    "\n",
    "Para comprender la distribución de las etiquetas de toxicidad en los comentarios se realiza el siguiente histograma de la variable objetivo"
   ]
  },
  {
   "cell_type": "code",
   "execution_count": 20,
   "metadata": {},
   "outputs": [
    {
     "data": {
      "text/plain": [
       "<Axes: >"
      ]
     },
     "execution_count": 20,
     "metadata": {},
     "output_type": "execute_result"
    },
    {
     "data": {
      "image/png": "[encoded data removed]",
      "text/plain": [
       "<Figure size 640x480 with 1 Axes>"
      ]
     },
     "metadata": {},
     "output_type": "display_data"
    }
   ],
   "source": [
    "df.target.hist()"
   ]
  },
  {
   "cell_type": "markdown",
   "metadata": {},
   "source": [
    "Usando el método describe() se obtiene un resumen estadístico de la variable objetivo"
   ]
  },
  {
   "cell_type": "code",
   "execution_count": 21,
   "metadata": {},
   "outputs": [
    {
     "data": {
      "text/plain": [
       "count    541462.000000\n",
       "mean          0.102991\n",
       "std           0.196979\n",
       "min           0.000000\n",
       "25%           0.000000\n",
       "50%           0.000000\n",
       "75%           0.166667\n",
       "max           1.000000\n",
       "Name: target, dtype: float64"
      ]
     },
     "execution_count": 21,
     "metadata": {},
     "output_type": "execute_result"
    }
   ],
   "source": [
    "# Separación de variable de interés (y)\n",
    "y = df.target\n",
    "y.describe()"
   ]
  },
  {
   "cell_type": "markdown",
   "metadata": {},
   "source": [
    "Se tienen en total 541,462 comentarios, cuya media en la variable objetivo es aproximadamente 0.103, esto significa que en promedio alrededor del 10% de los comentarios son etiquetados como tóxicos, aunque hay una variabilidad considerable en la distribución de las etiquetas (aproximadamente 0.197). Las etiquetas toman valores en el rango [0, 1]. El 25% de los comentarios tienen una probabilidad de toxicidad de 0, el 50% tienen una probabilidad de toxicidad de 0, y el 75% tienen una probabilidad de toxicidad menor o igual a 0.166667.\n",
    "\n",
    "Se asigna la columna \"comment_text\" como variables predictoras X"
   ]
  },
  {
   "cell_type": "code",
   "execution_count": 22,
   "metadata": {},
   "outputs": [],
   "source": [
    "# Separación de variables predictoras (X), solo se considera el texto de la noticia\n",
    "X = df.comment_text"
   ]
  },
  {
   "cell_type": "markdown",
   "metadata": {},
   "source": [
    "Utilizando la función train_test_split() de scikit-learn se dividen los datos en conjuntos de entrenamiento y prueba"
   ]
  },
  {
   "cell_type": "code",
   "execution_count": 23,
   "metadata": {},
   "outputs": [],
   "source": [
    "# Separación de datos en set de entrenamiento y test\n",
    "X_train, X_test, y_train, y_test = train_test_split(X, y, test_size=0.33, random_state=42)"
   ]
  },
  {
   "cell_type": "markdown",
   "metadata": {},
   "source": [
    "## Punto 1 - Tokenización con CountVectorizer\n",
    "\n",
    "En la celda 1 creen y entrenen el modelo de regresión de su preferencia, para que prediga la probabilidad de que un comentario sea tóxico, usando los set de entrenamiento y test definidos anteriormente. Usen la función **CountVectorizer** para preprocesar los comentarios y presenten el desempeño del modelo con la métrica del MSE.\n",
    "\n",
    "Recuerden que el preprocesamiento que se haga sobre los datos de entrenamiento  (*.fit_transform()*) deben ser aplicado al set de test (*.transform()*).\n",
    "\n",
    "El código que se presenta a continuación utiliza CountVectorizer para tokenizar los comentarios de entrenamiento y prueba, luego entrena un modelo de regresión XGBoost y calcula el MSE utilizando las predicciones en el conjunto de prueba."
   ]
  },
  {
   "cell_type": "code",
   "execution_count": 24,
   "metadata": {},
   "outputs": [
    {
     "name": "stdout",
     "output_type": "stream",
     "text": [
      "MSE Tokenización con CountVectorizer: 0.020689791583810714\n"
     ]
    }
   ],
   "source": [
    "# Celda 1\n",
    "\n",
    "# Importamos CountVectorizer\n",
    "vect_A = CountVectorizer()\n",
    "\n",
    "# Tokenizamos los comentarios de entrenamiento y prueba\n",
    "X_train_dtm_A = vect_A.fit_transform(X_train)\n",
    "X_test_dtm_A = vect_A.transform(X_test)\n",
    "\n",
    "# Creamos y entrenamos el modelo de regresión XGBoost\n",
    "modelo = XGBRegressor(objective='reg:squarederror')  \n",
    "modelo.fit(X_train_dtm_A, y_train)\n",
    "\n",
    "# Predecimos los valores de toxicidad en el conjunto de prueba\n",
    "y_pred = modelo.predict(X_test_dtm_A)\n",
    "\n",
    "# Calculamos el Mean Squared Error (MSE)\n",
    "mse_A = mean_squared_error(y_test, y_pred)\n",
    "print(\"MSE Tokenización con CountVectorizer:\", mse_A)"
   ]
  },
  {
   "cell_type": "markdown",
   "metadata": {},
   "source": [
    "El modelo tiene un buen rendimiento en la predicción de la probabilidad de toxicidad de los comentarios en el conjunto de prueba, puesto que, el MSE obtenido usando CountVectorizer para tokenización es aproximadamente 0.0207\n",
    "\n",
    "## Punto 2 - Tokenización con CountVectorizer y trigramas\n",
    "\n",
    "En la celda 2 creen y entrenen el mismo modelo de regresión del punto anterior (es decir si usaron un RandomForestRegresor usen nuevamente ese regresor), para que prediga la probabilidad de que un comentario sea tóxico, usando los set de entrenamiento y test definidos anteriormente. Usen la función CountVectorizer **considerando trigramas** para preprocesar los comentarios y presenten el desempeño del modelo con la métrica del MSE.\n",
    "\n",
    "Recuerden que el preprocesamiento que se haga sobre los datos de entrenamiento  (*.fit_transform()*) deben ser aplicado al set de test (*.transform()*).\n",
    "\n",
    "En el siguiente código se ajusta CountVectorizer para considerar trigramas (combinaciones de tres palabras consecutivas) como parte del proceso de tokenización. Luego, se entrena el mismo modelo de regresión XGBoost y se calcula el MSE utilizando las predicciones en el conjunto de prueba."
   ]
  },
  {
   "cell_type": "code",
   "execution_count": 25,
   "metadata": {},
   "outputs": [
    {
     "name": "stdout",
     "output_type": "stream",
     "text": [
      "MSE Tokenización con CountVectorizer y trigramas: 0.020677312051006345\n"
     ]
    }
   ],
   "source": [
    "# Celda 2\n",
    "\n",
    "# Importamos CountVectorizer\n",
    "vect_B = CountVectorizer(ngram_range=(1, 3)) # Utilizamos trigramas\n",
    "\n",
    "# Tokenizamos los comentarios de entrenamiento y prueba\n",
    "X_train_dtm_B = vect_B.fit_transform(X_train)\n",
    "X_test_dtm_B = vect_B.transform(X_test)\n",
    "\n",
    "# Creamos y entrenamos el mismo modelo de regresión XGBoost\n",
    "modelo = XGBRegressor(objective='reg:squarederror')\n",
    "modelo.fit(X_train_dtm_B, y_train)\n",
    "\n",
    "# Predecimos los valores de toxicidad en el conjunto de prueba\n",
    "y_pred = modelo.predict(X_test_dtm_B)\n",
    "\n",
    "# Calculamos el Mean Squared Error (MSE)\n",
    "mse_B = mean_squared_error(y_test, y_pred)\n",
    "print(\"MSE Tokenización con CountVectorizer y trigramas:\", mse_B)"
   ]
  },
  {
   "cell_type": "markdown",
   "metadata": {},
   "source": [
    "La inclusión de trigramas no ha tenido un impacto significativo en el rendimiento del modelo en este caso, pues, el MSE obtenido utilizando CountVectorizer con trigramas es aproximadamente 0.0207, teniendo así un rendimiento similar al del punto anterior.\n",
    "\n",
    "## Punto 3 - TfidfVectorizer\n",
    "\n",
    "Investigen sobre la función TfidfVectorizer. En la celda de texto 3, expliquen en qué consiste esta técnica de tokenización (describanla y expliquen su funcionamiento) y cúales son las ventajas o deventajas de su uso al compararlo con la función CountVectorizer."
   ]
  },
  {
   "cell_type": "markdown",
   "metadata": {},
   "source": [
    "### Celda 3\n",
    "\n",
    "#### Descripción \n",
    "\n",
    "El TF-IDF Vectorizer (Term Frequency-Inverse Document Frequency Vectorizer) es una técnica de tokenización o ponderación de características que evalúa la importancia de una palabra en un documento en relación con un corpus (conjunto de textos o documentos que se utilizan como base de datos para análisis lingüísticos). Esta medida considera tanto la frecuencia de una palabra en un documento como su frecuencia inversa en todo el corpus.\n",
    "\n",
    "#### Funcionamiento\n",
    "\n",
    "Las palabras que aparecen con alta frecuencia en un documento y en todo el corpus (posibles stopwords) tendrán un TF-IDF bajo, mientras que aquellas palabras que son específicas de ciertos documentos tendrán un valor de IDF mayor.\n",
    "\n",
    "Lo anterior significa que, el TF-IDF asigna un peso a cada palabra en función de su relevancia en un documento, ayudando a filtrar palabras comunes y resaltar aquellas más significativas. Esto evita la necesidad de ajustar parámetros manualmente, y se enfoca en palabras únicas que aportan información distintiva al texto.\n",
    "\n",
    "$W_{x,y} = tf_{x,y} * log(N/df_x)$\n",
    "- TF-IDF: término x en el documento y\n",
    "- $tf_{x,y}$: frecuencia de x en y\n",
    "- $df_x$: número de documentos que contienen x\n",
    "- N: número total de documentos\n",
    "\n",
    "#### Ventajas\n",
    "\n",
    "TfidfVectorizer normaliza las características, filtra términos comunes como: \"the\", \"a\", \"and\" que pueden no ser útiles para el análisis y da más peso a los términos que son importantes para un documento específico pero raros en todo el corpus.\n",
    "\n",
    "#### Desventajas\n",
    "\n",
    "TfidfVectorizer puede ser más computacionalmente costoso que CountVectorizer debido al cálculo de IDF, para obtener buenos resultados, se requiere un corpus grande y representativo, además, TfidfVectorizer tiene parámetros adicionales que necesitan ser ajustados, como el suavizado de IDF o la norma. "
   ]
  },
  {
   "cell_type": "markdown",
   "metadata": {},
   "source": [
    "## Punto 4 - Tokenización con TfidfVectorizer\n",
    "\n",
    "En la celda 4 creen y entrenen el mismo modelo de regresión del primer punto, para que prediga la probabilidad de que un comentario sea tóxico, usando los set de entrenamiento y test definidos anteriormente. Procesen los comentarios con la función **TfidfVectorizer** y presenten el desempeño del modelo con la métrica del MSE.\n",
    "\n",
    "Recuerden que el preprocesamiento que se haga sobre los datos de entrenamiento  (*.fit_transform()*) deben ser aplicado al set de test (*.transform()*).\n",
    "\n",
    "A continuación se uzará TfdidfVectotizer para tokenizar los comentarios de entrenamiento y prueva. Luego, se entrenará el mismo modelo de regresión XGBoost y se calculará el MSE utilizando las predicciones en el conjunto de prueba."
   ]
  },
  {
   "cell_type": "code",
   "execution_count": 26,
   "metadata": {},
   "outputs": [
    {
     "name": "stdout",
     "output_type": "stream",
     "text": [
      "MSE Tokenización con TfidfVectorizer: 0.020335956149285114\n"
     ]
    }
   ],
   "source": [
    "# Celda 4\n",
    "\n",
    "# Creamos y entrenamos el modelo de regresión utilizando TfidfVectorizer\n",
    "vect_C = TfidfVectorizer()\n",
    "X_train_dtm_C = vect_C.fit_transform(X_train)\n",
    "X_test_dtm_C = vect_C.transform(X_test)\n",
    "\n",
    "modelo = XGBRegressor(objective='reg:squarederror')  \n",
    "modelo.fit(X_train_dtm_C, y_train)\n",
    "\n",
    "# Predecimos los valores de toxicidad en el conjunto de prueba\n",
    "y_pred = modelo.predict(X_test_dtm_C)\n",
    "\n",
    "# Calculamos el Mean Squared Error (MSE)\n",
    "mse_C = mean_squared_error(y_test, y_pred)\n",
    "print(\"MSE Tokenización con TfidfVectorizer:\", mse_C)"
   ]
  },
  {
   "cell_type": "markdown",
   "metadata": {},
   "source": [
    "El MSE obtenido utilizando TfidfVectorizer para tokenización es aproximadamente 0.0203. Por consiguiente, el modelo sigue teniendo un buen rendimiento en la predicción de la probabilidad de toxicidad de los comentarios en el conjunto de prueba, incluso cuando se utiliza TfidfVectorizer en lugar de CountVectorizer.\n",
    "\n",
    "## Punto 5 - Comparación y análisis de resultados\n",
    "\n",
    "En la celda 5 comparen los resultados obtenidos de los diferentes modelos y comenten cómo el preprocesamiento de texto afecta el desempeño."
   ]
  },
  {
   "cell_type": "code",
   "execution_count": 33,
   "metadata": {},
   "outputs": [
    {
     "data": {
      "image/png": "[encoded data removed]",
      "text/plain": [
       "<Figure size 640x480 with 1 Axes>"
      ]
     },
     "metadata": {},
     "output_type": "display_data"
    }
   ],
   "source": [
    "# Celda 5\n",
    "fig = plt.figure()\n",
    "ax = fig.add_axes([0, 0, 1, 1])\n",
    "ax.set_title(\"Comparación de modelos\")\n",
    "ejeX = ['CountVectorizer', 'CountVectorizer+Trigramas', 'TfidfVectorizer']\n",
    "ejeY = [mse_A, mse_B, mse_C]\n",
    "\n",
    "min_rmse_index = ejeY.index(min(ejeY))\n",
    "\n",
    "colors = ['blue' if i != min_rmse_index else 'red' for i in range(len(ejeY))]\n",
    "\n",
    "ax.bar(ejeX, ejeY, color=colors)\n",
    "\n",
    "def addlabels(x, y, plotP):\n",
    "    for i in range(len(x)):\n",
    "        plotP.text(i, y[i], f\"{y[i]:.6f}\", ha='center')\n",
    "\n",
    "addlabels(ejeX, ejeY, plt)\n",
    "\n",
    "\n",
    "plt.show()\n"
   ]
  },
  {
   "cell_type": "markdown",
   "metadata": {},
   "source": [
    "Al analizar los resultados de los diferentes modelos, se observa en la gráfica que: la tokenización con TfidfVectorizer produjo el MSE más bajo. Sin embargo, los tres modelos fueron competentes, ya que sus métricas de MSE fueron bastante cercanas.\r\n",
    "\r\n",
    "A pesar de que el CountVectorizer solo cuenta la frecuencia de las palabras en los datos sin tener en cuenta su relevancia mostró un buen desempeño, pero, como se esperaba, fue el peor de los 3 modelos.\r\n",
    "\r\n",
    "El CountVectorizer con trigramas logró bajar aún mas el MSE ya que se están considerando combinaciones de tres palabras consecutivas, a pesar de que el cambio no fue sustancial este modelo demuestra que el uso de trigramas mejora el desmepeño de modelo, aunque se debe tener en cuenta que también aumenta el coste computacional, siendo el modelo que más tiempo tardó en ejecutarse.\r\n",
    "\r\n",
    "Finalmente el modelo TfidfVectorizer mostró el mejor desempeño en el ejercicio, además su coste computacional no fue tan alto. Esto quiere decir que en este caso la evaluación de las palabras en el documento para asignarle un peso específico y poder ponderar su impportancia fue el mejor método para la predicción de los datos.\r\n",
    "\r\n",
    "Es importante señalar que, aunque en este caso el modelo TfidfVectorizer tuvo el mejor desempeño, pueden surgir situaciones en las que CountVectorizer sea más apropiado. Al considerar problemas específicos de tokenización o restricciones de recursos computacionales, sería útil evaluar la conveniencia de utilizar trigramas u otros enfoques de detección de palabras consecutivas."
   ]
  }
 ],
 "metadata": {
  "kernelspec": {
   "display_name": "Python 3 (Spyder)",
   "language": "python3",
   "name": "python3"
  },
  "language_info": {
   "codemirror_mode": {
    "name": "ipython",
    "version": 3
   },
   "file_extension": ".py",
   "mimetype": "text/x-python",
   "name": "python",
   "nbconvert_exporter": "python",
   "pygments_lexer": "ipython3",
   "version": "3.11.7"
  },
  "name": "_merged"
 },
 "nbformat": 4,
 "nbformat_minor": 4
}
